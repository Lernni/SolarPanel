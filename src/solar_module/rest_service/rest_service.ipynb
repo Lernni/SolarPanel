{
 "cells": [
  {
   "cell_type": "markdown",
   "metadata": {},
   "source": [
    "# Rest Service Demonstration\n",
    "\n",
    "## DB Sections Request"
   ]
  },
  {
   "cell_type": "code",
   "execution_count": null,
   "metadata": {},
   "outputs": [
    {
     "ename": "NotImplementedError",
     "evalue": "Partition size is less than overlapping window size. Try using ``df.repartition`` to increase the partition size.",
     "output_type": "error",
     "traceback": [
      "\u001b[0;31m---------------------------------------------------------------------------\u001b[0m",
      "\u001b[0;31mNotImplementedError\u001b[0m                       Traceback (most recent call last)",
      "Input \u001b[0;32mIn [10]\u001b[0m, in \u001b[0;36m<module>\u001b[0;34m\u001b[0m\n\u001b[1;32m     16\u001b[0m mf[\u001b[38;5;124m\"\u001b[39m\u001b[38;5;124mgap\u001b[39m\u001b[38;5;124m\"\u001b[39m] \u001b[38;5;241m=\u001b[39m mf[\u001b[38;5;124m\"\u001b[39m\u001b[38;5;124mtimestamp\u001b[39m\u001b[38;5;124m\"\u001b[39m]\u001b[38;5;241m.\u001b[39mdiff()\u001b[38;5;241m.\u001b[39mdt\u001b[38;5;241m.\u001b[39mseconds \u001b[38;5;241m>\u001b[39m \u001b[38;5;241m5\u001b[39m\n\u001b[1;32m     17\u001b[0m mf[\u001b[38;5;124m\"\u001b[39m\u001b[38;5;124mgap\u001b[39m\u001b[38;5;124m\"\u001b[39m] \u001b[38;5;241m=\u001b[39m mf[\u001b[38;5;124m\"\u001b[39m\u001b[38;5;124mgap\u001b[39m\u001b[38;5;124m\"\u001b[39m]\u001b[38;5;241m.\u001b[39mcumsum()\n\u001b[0;32m---> 19\u001b[0m \u001b[43mmf\u001b[49m\u001b[38;5;241;43m.\u001b[39;49m\u001b[43mcompute\u001b[49m\u001b[43m(\u001b[49m\u001b[43m)\u001b[49m\n",
      "File \u001b[0;32m~/projects/SolarPanel/SolarPanel/src/solar_module/.venv/lib/python3.8/site-packages/dask/base.py:290\u001b[0m, in \u001b[0;36mDaskMethodsMixin.compute\u001b[0;34m(self, **kwargs)\u001b[0m\n\u001b[1;32m    266\u001b[0m \u001b[38;5;28;01mdef\u001b[39;00m \u001b[38;5;21mcompute\u001b[39m(\u001b[38;5;28mself\u001b[39m, \u001b[38;5;241m*\u001b[39m\u001b[38;5;241m*\u001b[39mkwargs):\n\u001b[1;32m    267\u001b[0m     \u001b[38;5;124;03m\"\"\"Compute this dask collection\u001b[39;00m\n\u001b[1;32m    268\u001b[0m \n\u001b[1;32m    269\u001b[0m \u001b[38;5;124;03m    This turns a lazy Dask collection into its in-memory equivalent.\u001b[39;00m\n\u001b[0;32m   (...)\u001b[0m\n\u001b[1;32m    288\u001b[0m \u001b[38;5;124;03m    dask.base.compute\u001b[39;00m\n\u001b[1;32m    289\u001b[0m \u001b[38;5;124;03m    \"\"\"\u001b[39;00m\n\u001b[0;32m--> 290\u001b[0m     (result,) \u001b[38;5;241m=\u001b[39m \u001b[43mcompute\u001b[49m\u001b[43m(\u001b[49m\u001b[38;5;28;43mself\u001b[39;49m\u001b[43m,\u001b[49m\u001b[43m \u001b[49m\u001b[43mtraverse\u001b[49m\u001b[38;5;241;43m=\u001b[39;49m\u001b[38;5;28;43;01mFalse\u001b[39;49;00m\u001b[43m,\u001b[49m\u001b[43m \u001b[49m\u001b[38;5;241;43m*\u001b[39;49m\u001b[38;5;241;43m*\u001b[39;49m\u001b[43mkwargs\u001b[49m\u001b[43m)\u001b[49m\n\u001b[1;32m    291\u001b[0m     \u001b[38;5;28;01mreturn\u001b[39;00m result\n",
      "File \u001b[0;32m~/projects/SolarPanel/SolarPanel/src/solar_module/.venv/lib/python3.8/site-packages/dask/base.py:573\u001b[0m, in \u001b[0;36mcompute\u001b[0;34m(traverse, optimize_graph, scheduler, get, *args, **kwargs)\u001b[0m\n\u001b[1;32m    570\u001b[0m     keys\u001b[38;5;241m.\u001b[39mappend(x\u001b[38;5;241m.\u001b[39m__dask_keys__())\n\u001b[1;32m    571\u001b[0m     postcomputes\u001b[38;5;241m.\u001b[39mappend(x\u001b[38;5;241m.\u001b[39m__dask_postcompute__())\n\u001b[0;32m--> 573\u001b[0m results \u001b[38;5;241m=\u001b[39m \u001b[43mschedule\u001b[49m\u001b[43m(\u001b[49m\u001b[43mdsk\u001b[49m\u001b[43m,\u001b[49m\u001b[43m \u001b[49m\u001b[43mkeys\u001b[49m\u001b[43m,\u001b[49m\u001b[43m \u001b[49m\u001b[38;5;241;43m*\u001b[39;49m\u001b[38;5;241;43m*\u001b[39;49m\u001b[43mkwargs\u001b[49m\u001b[43m)\u001b[49m\n\u001b[1;32m    574\u001b[0m \u001b[38;5;28;01mreturn\u001b[39;00m repack([f(r, \u001b[38;5;241m*\u001b[39ma) \u001b[38;5;28;01mfor\u001b[39;00m r, (f, a) \u001b[38;5;129;01min\u001b[39;00m \u001b[38;5;28mzip\u001b[39m(results, postcomputes)])\n",
      "File \u001b[0;32m~/projects/SolarPanel/SolarPanel/src/solar_module/.venv/lib/python3.8/site-packages/dask/threaded.py:81\u001b[0m, in \u001b[0;36mget\u001b[0;34m(dsk, result, cache, num_workers, pool, **kwargs)\u001b[0m\n\u001b[1;32m     78\u001b[0m     \u001b[38;5;28;01melif\u001b[39;00m \u001b[38;5;28misinstance\u001b[39m(pool, multiprocessing\u001b[38;5;241m.\u001b[39mpool\u001b[38;5;241m.\u001b[39mPool):\n\u001b[1;32m     79\u001b[0m         pool \u001b[38;5;241m=\u001b[39m MultiprocessingPoolExecutor(pool)\n\u001b[0;32m---> 81\u001b[0m results \u001b[38;5;241m=\u001b[39m \u001b[43mget_async\u001b[49m\u001b[43m(\u001b[49m\n\u001b[1;32m     82\u001b[0m \u001b[43m    \u001b[49m\u001b[43mpool\u001b[49m\u001b[38;5;241;43m.\u001b[39;49m\u001b[43msubmit\u001b[49m\u001b[43m,\u001b[49m\n\u001b[1;32m     83\u001b[0m \u001b[43m    \u001b[49m\u001b[43mpool\u001b[49m\u001b[38;5;241;43m.\u001b[39;49m\u001b[43m_max_workers\u001b[49m\u001b[43m,\u001b[49m\n\u001b[1;32m     84\u001b[0m \u001b[43m    \u001b[49m\u001b[43mdsk\u001b[49m\u001b[43m,\u001b[49m\n\u001b[1;32m     85\u001b[0m \u001b[43m    \u001b[49m\u001b[43mresult\u001b[49m\u001b[43m,\u001b[49m\n\u001b[1;32m     86\u001b[0m \u001b[43m    \u001b[49m\u001b[43mcache\u001b[49m\u001b[38;5;241;43m=\u001b[39;49m\u001b[43mcache\u001b[49m\u001b[43m,\u001b[49m\n\u001b[1;32m     87\u001b[0m \u001b[43m    \u001b[49m\u001b[43mget_id\u001b[49m\u001b[38;5;241;43m=\u001b[39;49m\u001b[43m_thread_get_id\u001b[49m\u001b[43m,\u001b[49m\n\u001b[1;32m     88\u001b[0m \u001b[43m    \u001b[49m\u001b[43mpack_exception\u001b[49m\u001b[38;5;241;43m=\u001b[39;49m\u001b[43mpack_exception\u001b[49m\u001b[43m,\u001b[49m\n\u001b[1;32m     89\u001b[0m \u001b[43m    \u001b[49m\u001b[38;5;241;43m*\u001b[39;49m\u001b[38;5;241;43m*\u001b[39;49m\u001b[43mkwargs\u001b[49m\u001b[43m,\u001b[49m\n\u001b[1;32m     90\u001b[0m \u001b[43m\u001b[49m\u001b[43m)\u001b[49m\n\u001b[1;32m     92\u001b[0m \u001b[38;5;66;03m# Cleanup pools associated to dead threads\u001b[39;00m\n\u001b[1;32m     93\u001b[0m \u001b[38;5;28;01mwith\u001b[39;00m pools_lock:\n",
      "File \u001b[0;32m~/projects/SolarPanel/SolarPanel/src/solar_module/.venv/lib/python3.8/site-packages/dask/local.py:506\u001b[0m, in \u001b[0;36mget_async\u001b[0;34m(submit, num_workers, dsk, result, cache, get_id, rerun_exceptions_locally, pack_exception, raise_exception, callbacks, dumps, loads, chunksize, **kwargs)\u001b[0m\n\u001b[1;32m    504\u001b[0m         _execute_task(task, data)  \u001b[38;5;66;03m# Re-execute locally\u001b[39;00m\n\u001b[1;32m    505\u001b[0m     \u001b[38;5;28;01melse\u001b[39;00m:\n\u001b[0;32m--> 506\u001b[0m         \u001b[43mraise_exception\u001b[49m\u001b[43m(\u001b[49m\u001b[43mexc\u001b[49m\u001b[43m,\u001b[49m\u001b[43m \u001b[49m\u001b[43mtb\u001b[49m\u001b[43m)\u001b[49m\n\u001b[1;32m    507\u001b[0m res, worker_id \u001b[38;5;241m=\u001b[39m loads(res_info)\n\u001b[1;32m    508\u001b[0m state[\u001b[38;5;124m\"\u001b[39m\u001b[38;5;124mcache\u001b[39m\u001b[38;5;124m\"\u001b[39m][key] \u001b[38;5;241m=\u001b[39m res\n",
      "File \u001b[0;32m~/projects/SolarPanel/SolarPanel/src/solar_module/.venv/lib/python3.8/site-packages/dask/local.py:314\u001b[0m, in \u001b[0;36mreraise\u001b[0;34m(exc, tb)\u001b[0m\n\u001b[1;32m    312\u001b[0m \u001b[38;5;28;01mif\u001b[39;00m exc\u001b[38;5;241m.\u001b[39m__traceback__ \u001b[38;5;129;01mis\u001b[39;00m \u001b[38;5;129;01mnot\u001b[39;00m tb:\n\u001b[1;32m    313\u001b[0m     \u001b[38;5;28;01mraise\u001b[39;00m exc\u001b[38;5;241m.\u001b[39mwith_traceback(tb)\n\u001b[0;32m--> 314\u001b[0m \u001b[38;5;28;01mraise\u001b[39;00m exc\n",
      "File \u001b[0;32m~/projects/SolarPanel/SolarPanel/src/solar_module/.venv/lib/python3.8/site-packages/dask/local.py:219\u001b[0m, in \u001b[0;36mexecute_task\u001b[0;34m(key, task_info, dumps, loads, get_id, pack_exception)\u001b[0m\n\u001b[1;32m    217\u001b[0m \u001b[38;5;28;01mtry\u001b[39;00m:\n\u001b[1;32m    218\u001b[0m     task, data \u001b[38;5;241m=\u001b[39m loads(task_info)\n\u001b[0;32m--> 219\u001b[0m     result \u001b[38;5;241m=\u001b[39m \u001b[43m_execute_task\u001b[49m\u001b[43m(\u001b[49m\u001b[43mtask\u001b[49m\u001b[43m,\u001b[49m\u001b[43m \u001b[49m\u001b[43mdata\u001b[49m\u001b[43m)\u001b[49m\n\u001b[1;32m    220\u001b[0m     \u001b[38;5;28mid\u001b[39m \u001b[38;5;241m=\u001b[39m get_id()\n\u001b[1;32m    221\u001b[0m     result \u001b[38;5;241m=\u001b[39m dumps((result, \u001b[38;5;28mid\u001b[39m))\n",
      "File \u001b[0;32m~/projects/SolarPanel/SolarPanel/src/solar_module/.venv/lib/python3.8/site-packages/dask/core.py:119\u001b[0m, in \u001b[0;36m_execute_task\u001b[0;34m(arg, cache, dsk)\u001b[0m\n\u001b[1;32m    115\u001b[0m     func, args \u001b[38;5;241m=\u001b[39m arg[\u001b[38;5;241m0\u001b[39m], arg[\u001b[38;5;241m1\u001b[39m:]\n\u001b[1;32m    116\u001b[0m     \u001b[38;5;66;03m# Note: Don't assign the subtask results to a variable. numpy detects\u001b[39;00m\n\u001b[1;32m    117\u001b[0m     \u001b[38;5;66;03m# temporaries by their reference count and can execute certain\u001b[39;00m\n\u001b[1;32m    118\u001b[0m     \u001b[38;5;66;03m# operations in-place.\u001b[39;00m\n\u001b[0;32m--> 119\u001b[0m     \u001b[38;5;28;01mreturn\u001b[39;00m \u001b[43mfunc\u001b[49m\u001b[43m(\u001b[49m\u001b[38;5;241;43m*\u001b[39;49m\u001b[43m(\u001b[49m\u001b[43m_execute_task\u001b[49m\u001b[43m(\u001b[49m\u001b[43ma\u001b[49m\u001b[43m,\u001b[49m\u001b[43m \u001b[49m\u001b[43mcache\u001b[49m\u001b[43m)\u001b[49m\u001b[43m \u001b[49m\u001b[38;5;28;43;01mfor\u001b[39;49;00m\u001b[43m \u001b[49m\u001b[43ma\u001b[49m\u001b[43m \u001b[49m\u001b[38;5;129;43;01min\u001b[39;49;00m\u001b[43m \u001b[49m\u001b[43margs\u001b[49m\u001b[43m)\u001b[49m\u001b[43m)\u001b[49m\n\u001b[1;32m    120\u001b[0m \u001b[38;5;28;01melif\u001b[39;00m \u001b[38;5;129;01mnot\u001b[39;00m ishashable(arg):\n\u001b[1;32m    121\u001b[0m     \u001b[38;5;28;01mreturn\u001b[39;00m arg\n",
      "File \u001b[0;32m~/projects/SolarPanel/SolarPanel/src/solar_module/.venv/lib/python3.8/site-packages/dask/dataframe/rolling.py:29\u001b[0m, in \u001b[0;36moverlap_chunk\u001b[0;34m(func, prev_part, current_part, next_part, before, after, args, kwargs)\u001b[0m\n\u001b[1;32m     27\u001b[0m \u001b[38;5;28;01mif\u001b[39;00m prev_part \u001b[38;5;129;01mis\u001b[39;00m \u001b[38;5;129;01mnot\u001b[39;00m \u001b[38;5;28;01mNone\u001b[39;00m \u001b[38;5;129;01mand\u001b[39;00m \u001b[38;5;28misinstance\u001b[39m(before, Integral):\n\u001b[1;32m     28\u001b[0m     \u001b[38;5;28;01mif\u001b[39;00m prev_part\u001b[38;5;241m.\u001b[39mshape[\u001b[38;5;241m0\u001b[39m] \u001b[38;5;241m!=\u001b[39m before:\n\u001b[0;32m---> 29\u001b[0m         \u001b[38;5;28;01mraise\u001b[39;00m \u001b[38;5;167;01mNotImplementedError\u001b[39;00m(msg)\n\u001b[1;32m     31\u001b[0m \u001b[38;5;28;01mif\u001b[39;00m next_part \u001b[38;5;129;01mis\u001b[39;00m \u001b[38;5;129;01mnot\u001b[39;00m \u001b[38;5;28;01mNone\u001b[39;00m \u001b[38;5;129;01mand\u001b[39;00m \u001b[38;5;28misinstance\u001b[39m(after, Integral):\n\u001b[1;32m     32\u001b[0m     \u001b[38;5;28;01mif\u001b[39;00m next_part\u001b[38;5;241m.\u001b[39mshape[\u001b[38;5;241m0\u001b[39m] \u001b[38;5;241m!=\u001b[39m after:\n",
      "\u001b[0;31mNotImplementedError\u001b[0m: Partition size is less than overlapping window size. Try using ``df.repartition`` to increase the partition size."
     ]
    }
   ],
   "source": [
    "from dask import dataframe as dd\n",
    "from datetime import datetime\n",
    "import pandas as pd\n",
    "\n",
    "df = dd.read_parquet('../cache/solarpanel.parquet')\n",
    "start_time = pd.to_datetime(datetime.fromtimestamp(1642686469405 / 1000))\n",
    "end_time = pd.to_datetime(datetime.fromtimestamp(1646364869405 / 1000))\n",
    "\n",
    "mask = (\n",
    "  (df.index >= start_time) &\n",
    "  (df.index <= end_time)\n",
    ")\n",
    "\n",
    "mf = df.loc[mask, []]\n",
    "mf = mf.reset_index()\n",
    "mf[\"gap\"] = mf[\"timestamp\"].diff().dt.seconds > 5\n",
    "mf[\"gap\"] = mf[\"gap\"].cumsum()\n",
    "\n",
    "mf.compute()"
   ]
  },
  {
   "cell_type": "code",
   "execution_count": 132,
   "metadata": {},
   "outputs": [
    {
     "data": {
      "text/html": [
       "<div><strong>Dask DataFrame Structure:</strong></div>\n",
       "<div>\n",
       "<style scoped>\n",
       "    .dataframe tbody tr th:only-of-type {\n",
       "        vertical-align: middle;\n",
       "    }\n",
       "\n",
       "    .dataframe tbody tr th {\n",
       "        vertical-align: top;\n",
       "    }\n",
       "\n",
       "    .dataframe thead tr th {\n",
       "        text-align: left;\n",
       "    }\n",
       "\n",
       "    .dataframe thead tr:last-of-type th {\n",
       "        text-align: right;\n",
       "    }\n",
       "</style>\n",
       "<table border=\"1\" class=\"dataframe\">\n",
       "  <thead>\n",
       "    <tr>\n",
       "      <th></th>\n",
       "      <th colspan=\"2\" halign=\"left\">timestamp</th>\n",
       "    </tr>\n",
       "    <tr>\n",
       "      <th></th>\n",
       "      <th>amin</th>\n",
       "      <th>amax</th>\n",
       "    </tr>\n",
       "    <tr>\n",
       "      <th>npartitions=1</th>\n",
       "      <th></th>\n",
       "      <th></th>\n",
       "    </tr>\n",
       "  </thead>\n",
       "  <tbody>\n",
       "    <tr>\n",
       "      <th></th>\n",
       "      <td>datetime64[ns]</td>\n",
       "      <td>datetime64[ns]</td>\n",
       "    </tr>\n",
       "    <tr>\n",
       "      <th></th>\n",
       "      <td>...</td>\n",
       "      <td>...</td>\n",
       "    </tr>\n",
       "  </tbody>\n",
       "</table>\n",
       "</div>\n",
       "<div>Dask Name: aggregate-agg, 4583 tasks</div>"
      ],
      "text/plain": [
       "Dask DataFrame Structure:\n",
       "                    timestamp                \n",
       "                         amin            amax\n",
       "npartitions=1                                \n",
       "               datetime64[ns]  datetime64[ns]\n",
       "                          ...             ...\n",
       "Dask Name: aggregate-agg, 4583 tasks"
      ]
     },
     "execution_count": 132,
     "metadata": {},
     "output_type": "execute_result"
    }
   ],
   "source": [
    "import numpy as np\n",
    "\n",
    "gk = mf.groupby(\"gap\").agg({'timestamp' : [np.min, np.max]})\n",
    "gk.compute()"
   ]
  },
  {
   "cell_type": "code",
   "execution_count": 131,
   "metadata": {},
   "outputs": [
    {
     "data": {
      "text/plain": [
       "array([[1645444759, 1645446079],\n",
       "       [1645446088, 1645447661],\n",
       "       [1645447851, 1645449299]])"
      ]
     },
     "execution_count": 131,
     "metadata": {},
     "output_type": "execute_result"
    }
   ],
   "source": [
    "gk.compute().to_numpy().astype('datetime64[s]').astype('int')"
   ]
  },
  {
   "cell_type": "markdown",
   "metadata": {},
   "source": [
    "## DB Records Request"
   ]
  },
  {
   "cell_type": "code",
   "execution_count": 11,
   "metadata": {},
   "outputs": [
    {
     "name": "stdout",
     "output_type": "stream",
     "text": [
      "2022-03-10 11:07:44.141000\n",
      "2022-03-10 11:32:23.348000\n",
      "1479\n"
     ]
    },
    {
     "ename": "NotImplementedError",
     "evalue": "Partition size is less than overlapping window size. Try using ``df.repartition`` to increase the partition size.",
     "output_type": "error",
     "traceback": [
      "\u001b[0;31m---------------------------------------------------------------------------\u001b[0m",
      "\u001b[0;31mNotImplementedError\u001b[0m                       Traceback (most recent call last)",
      "Input \u001b[0;32mIn [11]\u001b[0m, in \u001b[0;36m<module>\u001b[0;34m\u001b[0m\n\u001b[1;32m     28\u001b[0m mf[\u001b[38;5;124m\"\u001b[39m\u001b[38;5;124mgap\u001b[39m\u001b[38;5;124m\"\u001b[39m] \u001b[38;5;241m=\u001b[39m mf[\u001b[38;5;124m\"\u001b[39m\u001b[38;5;124mtimestamp\u001b[39m\u001b[38;5;124m\"\u001b[39m]\u001b[38;5;241m.\u001b[39mdiff()\u001b[38;5;241m.\u001b[39mdt\u001b[38;5;241m.\u001b[39mseconds \u001b[38;5;241m>\u001b[39m resample_freq\n\u001b[1;32m     29\u001b[0m mf[\u001b[38;5;124m\"\u001b[39m\u001b[38;5;124mgap\u001b[39m\u001b[38;5;124m\"\u001b[39m] \u001b[38;5;241m=\u001b[39m mf[\u001b[38;5;124m\"\u001b[39m\u001b[38;5;124mgap\u001b[39m\u001b[38;5;124m\"\u001b[39m]\u001b[38;5;241m.\u001b[39mcumsum()\n\u001b[0;32m---> 30\u001b[0m \u001b[43mmf\u001b[49m\u001b[38;5;241;43m.\u001b[39;49m\u001b[43mcompute\u001b[49m\u001b[43m(\u001b[49m\u001b[43m)\u001b[49m\n",
      "File \u001b[0;32m~/projects/SolarPanel/SolarPanel/src/solar_module/.venv/lib/python3.8/site-packages/dask/base.py:290\u001b[0m, in \u001b[0;36mDaskMethodsMixin.compute\u001b[0;34m(self, **kwargs)\u001b[0m\n\u001b[1;32m    266\u001b[0m \u001b[38;5;28;01mdef\u001b[39;00m \u001b[38;5;21mcompute\u001b[39m(\u001b[38;5;28mself\u001b[39m, \u001b[38;5;241m*\u001b[39m\u001b[38;5;241m*\u001b[39mkwargs):\n\u001b[1;32m    267\u001b[0m     \u001b[38;5;124;03m\"\"\"Compute this dask collection\u001b[39;00m\n\u001b[1;32m    268\u001b[0m \n\u001b[1;32m    269\u001b[0m \u001b[38;5;124;03m    This turns a lazy Dask collection into its in-memory equivalent.\u001b[39;00m\n\u001b[0;32m   (...)\u001b[0m\n\u001b[1;32m    288\u001b[0m \u001b[38;5;124;03m    dask.base.compute\u001b[39;00m\n\u001b[1;32m    289\u001b[0m \u001b[38;5;124;03m    \"\"\"\u001b[39;00m\n\u001b[0;32m--> 290\u001b[0m     (result,) \u001b[38;5;241m=\u001b[39m \u001b[43mcompute\u001b[49m\u001b[43m(\u001b[49m\u001b[38;5;28;43mself\u001b[39;49m\u001b[43m,\u001b[49m\u001b[43m \u001b[49m\u001b[43mtraverse\u001b[49m\u001b[38;5;241;43m=\u001b[39;49m\u001b[38;5;28;43;01mFalse\u001b[39;49;00m\u001b[43m,\u001b[49m\u001b[43m \u001b[49m\u001b[38;5;241;43m*\u001b[39;49m\u001b[38;5;241;43m*\u001b[39;49m\u001b[43mkwargs\u001b[49m\u001b[43m)\u001b[49m\n\u001b[1;32m    291\u001b[0m     \u001b[38;5;28;01mreturn\u001b[39;00m result\n",
      "File \u001b[0;32m~/projects/SolarPanel/SolarPanel/src/solar_module/.venv/lib/python3.8/site-packages/dask/base.py:573\u001b[0m, in \u001b[0;36mcompute\u001b[0;34m(traverse, optimize_graph, scheduler, get, *args, **kwargs)\u001b[0m\n\u001b[1;32m    570\u001b[0m     keys\u001b[38;5;241m.\u001b[39mappend(x\u001b[38;5;241m.\u001b[39m__dask_keys__())\n\u001b[1;32m    571\u001b[0m     postcomputes\u001b[38;5;241m.\u001b[39mappend(x\u001b[38;5;241m.\u001b[39m__dask_postcompute__())\n\u001b[0;32m--> 573\u001b[0m results \u001b[38;5;241m=\u001b[39m \u001b[43mschedule\u001b[49m\u001b[43m(\u001b[49m\u001b[43mdsk\u001b[49m\u001b[43m,\u001b[49m\u001b[43m \u001b[49m\u001b[43mkeys\u001b[49m\u001b[43m,\u001b[49m\u001b[43m \u001b[49m\u001b[38;5;241;43m*\u001b[39;49m\u001b[38;5;241;43m*\u001b[39;49m\u001b[43mkwargs\u001b[49m\u001b[43m)\u001b[49m\n\u001b[1;32m    574\u001b[0m \u001b[38;5;28;01mreturn\u001b[39;00m repack([f(r, \u001b[38;5;241m*\u001b[39ma) \u001b[38;5;28;01mfor\u001b[39;00m r, (f, a) \u001b[38;5;129;01min\u001b[39;00m \u001b[38;5;28mzip\u001b[39m(results, postcomputes)])\n",
      "File \u001b[0;32m~/projects/SolarPanel/SolarPanel/src/solar_module/.venv/lib/python3.8/site-packages/dask/threaded.py:81\u001b[0m, in \u001b[0;36mget\u001b[0;34m(dsk, result, cache, num_workers, pool, **kwargs)\u001b[0m\n\u001b[1;32m     78\u001b[0m     \u001b[38;5;28;01melif\u001b[39;00m \u001b[38;5;28misinstance\u001b[39m(pool, multiprocessing\u001b[38;5;241m.\u001b[39mpool\u001b[38;5;241m.\u001b[39mPool):\n\u001b[1;32m     79\u001b[0m         pool \u001b[38;5;241m=\u001b[39m MultiprocessingPoolExecutor(pool)\n\u001b[0;32m---> 81\u001b[0m results \u001b[38;5;241m=\u001b[39m \u001b[43mget_async\u001b[49m\u001b[43m(\u001b[49m\n\u001b[1;32m     82\u001b[0m \u001b[43m    \u001b[49m\u001b[43mpool\u001b[49m\u001b[38;5;241;43m.\u001b[39;49m\u001b[43msubmit\u001b[49m\u001b[43m,\u001b[49m\n\u001b[1;32m     83\u001b[0m \u001b[43m    \u001b[49m\u001b[43mpool\u001b[49m\u001b[38;5;241;43m.\u001b[39;49m\u001b[43m_max_workers\u001b[49m\u001b[43m,\u001b[49m\n\u001b[1;32m     84\u001b[0m \u001b[43m    \u001b[49m\u001b[43mdsk\u001b[49m\u001b[43m,\u001b[49m\n\u001b[1;32m     85\u001b[0m \u001b[43m    \u001b[49m\u001b[43mresult\u001b[49m\u001b[43m,\u001b[49m\n\u001b[1;32m     86\u001b[0m \u001b[43m    \u001b[49m\u001b[43mcache\u001b[49m\u001b[38;5;241;43m=\u001b[39;49m\u001b[43mcache\u001b[49m\u001b[43m,\u001b[49m\n\u001b[1;32m     87\u001b[0m \u001b[43m    \u001b[49m\u001b[43mget_id\u001b[49m\u001b[38;5;241;43m=\u001b[39;49m\u001b[43m_thread_get_id\u001b[49m\u001b[43m,\u001b[49m\n\u001b[1;32m     88\u001b[0m \u001b[43m    \u001b[49m\u001b[43mpack_exception\u001b[49m\u001b[38;5;241;43m=\u001b[39;49m\u001b[43mpack_exception\u001b[49m\u001b[43m,\u001b[49m\n\u001b[1;32m     89\u001b[0m \u001b[43m    \u001b[49m\u001b[38;5;241;43m*\u001b[39;49m\u001b[38;5;241;43m*\u001b[39;49m\u001b[43mkwargs\u001b[49m\u001b[43m,\u001b[49m\n\u001b[1;32m     90\u001b[0m \u001b[43m\u001b[49m\u001b[43m)\u001b[49m\n\u001b[1;32m     92\u001b[0m \u001b[38;5;66;03m# Cleanup pools associated to dead threads\u001b[39;00m\n\u001b[1;32m     93\u001b[0m \u001b[38;5;28;01mwith\u001b[39;00m pools_lock:\n",
      "File \u001b[0;32m~/projects/SolarPanel/SolarPanel/src/solar_module/.venv/lib/python3.8/site-packages/dask/local.py:506\u001b[0m, in \u001b[0;36mget_async\u001b[0;34m(submit, num_workers, dsk, result, cache, get_id, rerun_exceptions_locally, pack_exception, raise_exception, callbacks, dumps, loads, chunksize, **kwargs)\u001b[0m\n\u001b[1;32m    504\u001b[0m         _execute_task(task, data)  \u001b[38;5;66;03m# Re-execute locally\u001b[39;00m\n\u001b[1;32m    505\u001b[0m     \u001b[38;5;28;01melse\u001b[39;00m:\n\u001b[0;32m--> 506\u001b[0m         \u001b[43mraise_exception\u001b[49m\u001b[43m(\u001b[49m\u001b[43mexc\u001b[49m\u001b[43m,\u001b[49m\u001b[43m \u001b[49m\u001b[43mtb\u001b[49m\u001b[43m)\u001b[49m\n\u001b[1;32m    507\u001b[0m res, worker_id \u001b[38;5;241m=\u001b[39m loads(res_info)\n\u001b[1;32m    508\u001b[0m state[\u001b[38;5;124m\"\u001b[39m\u001b[38;5;124mcache\u001b[39m\u001b[38;5;124m\"\u001b[39m][key] \u001b[38;5;241m=\u001b[39m res\n",
      "File \u001b[0;32m~/projects/SolarPanel/SolarPanel/src/solar_module/.venv/lib/python3.8/site-packages/dask/local.py:314\u001b[0m, in \u001b[0;36mreraise\u001b[0;34m(exc, tb)\u001b[0m\n\u001b[1;32m    312\u001b[0m \u001b[38;5;28;01mif\u001b[39;00m exc\u001b[38;5;241m.\u001b[39m__traceback__ \u001b[38;5;129;01mis\u001b[39;00m \u001b[38;5;129;01mnot\u001b[39;00m tb:\n\u001b[1;32m    313\u001b[0m     \u001b[38;5;28;01mraise\u001b[39;00m exc\u001b[38;5;241m.\u001b[39mwith_traceback(tb)\n\u001b[0;32m--> 314\u001b[0m \u001b[38;5;28;01mraise\u001b[39;00m exc\n",
      "File \u001b[0;32m~/projects/SolarPanel/SolarPanel/src/solar_module/.venv/lib/python3.8/site-packages/dask/local.py:219\u001b[0m, in \u001b[0;36mexecute_task\u001b[0;34m(key, task_info, dumps, loads, get_id, pack_exception)\u001b[0m\n\u001b[1;32m    217\u001b[0m \u001b[38;5;28;01mtry\u001b[39;00m:\n\u001b[1;32m    218\u001b[0m     task, data \u001b[38;5;241m=\u001b[39m loads(task_info)\n\u001b[0;32m--> 219\u001b[0m     result \u001b[38;5;241m=\u001b[39m \u001b[43m_execute_task\u001b[49m\u001b[43m(\u001b[49m\u001b[43mtask\u001b[49m\u001b[43m,\u001b[49m\u001b[43m \u001b[49m\u001b[43mdata\u001b[49m\u001b[43m)\u001b[49m\n\u001b[1;32m    220\u001b[0m     \u001b[38;5;28mid\u001b[39m \u001b[38;5;241m=\u001b[39m get_id()\n\u001b[1;32m    221\u001b[0m     result \u001b[38;5;241m=\u001b[39m dumps((result, \u001b[38;5;28mid\u001b[39m))\n",
      "File \u001b[0;32m~/projects/SolarPanel/SolarPanel/src/solar_module/.venv/lib/python3.8/site-packages/dask/core.py:119\u001b[0m, in \u001b[0;36m_execute_task\u001b[0;34m(arg, cache, dsk)\u001b[0m\n\u001b[1;32m    115\u001b[0m     func, args \u001b[38;5;241m=\u001b[39m arg[\u001b[38;5;241m0\u001b[39m], arg[\u001b[38;5;241m1\u001b[39m:]\n\u001b[1;32m    116\u001b[0m     \u001b[38;5;66;03m# Note: Don't assign the subtask results to a variable. numpy detects\u001b[39;00m\n\u001b[1;32m    117\u001b[0m     \u001b[38;5;66;03m# temporaries by their reference count and can execute certain\u001b[39;00m\n\u001b[1;32m    118\u001b[0m     \u001b[38;5;66;03m# operations in-place.\u001b[39;00m\n\u001b[0;32m--> 119\u001b[0m     \u001b[38;5;28;01mreturn\u001b[39;00m \u001b[43mfunc\u001b[49m\u001b[43m(\u001b[49m\u001b[38;5;241;43m*\u001b[39;49m\u001b[43m(\u001b[49m\u001b[43m_execute_task\u001b[49m\u001b[43m(\u001b[49m\u001b[43ma\u001b[49m\u001b[43m,\u001b[49m\u001b[43m \u001b[49m\u001b[43mcache\u001b[49m\u001b[43m)\u001b[49m\u001b[43m \u001b[49m\u001b[38;5;28;43;01mfor\u001b[39;49;00m\u001b[43m \u001b[49m\u001b[43ma\u001b[49m\u001b[43m \u001b[49m\u001b[38;5;129;43;01min\u001b[39;49;00m\u001b[43m \u001b[49m\u001b[43margs\u001b[49m\u001b[43m)\u001b[49m\u001b[43m)\u001b[49m\n\u001b[1;32m    120\u001b[0m \u001b[38;5;28;01melif\u001b[39;00m \u001b[38;5;129;01mnot\u001b[39;00m ishashable(arg):\n\u001b[1;32m    121\u001b[0m     \u001b[38;5;28;01mreturn\u001b[39;00m arg\n",
      "File \u001b[0;32m~/projects/SolarPanel/SolarPanel/src/solar_module/.venv/lib/python3.8/site-packages/dask/dataframe/rolling.py:29\u001b[0m, in \u001b[0;36moverlap_chunk\u001b[0;34m(func, prev_part, current_part, next_part, before, after, args, kwargs)\u001b[0m\n\u001b[1;32m     27\u001b[0m \u001b[38;5;28;01mif\u001b[39;00m prev_part \u001b[38;5;129;01mis\u001b[39;00m \u001b[38;5;129;01mnot\u001b[39;00m \u001b[38;5;28;01mNone\u001b[39;00m \u001b[38;5;129;01mand\u001b[39;00m \u001b[38;5;28misinstance\u001b[39m(before, Integral):\n\u001b[1;32m     28\u001b[0m     \u001b[38;5;28;01mif\u001b[39;00m prev_part\u001b[38;5;241m.\u001b[39mshape[\u001b[38;5;241m0\u001b[39m] \u001b[38;5;241m!=\u001b[39m before:\n\u001b[0;32m---> 29\u001b[0m         \u001b[38;5;28;01mraise\u001b[39;00m \u001b[38;5;167;01mNotImplementedError\u001b[39;00m(msg)\n\u001b[1;32m     31\u001b[0m \u001b[38;5;28;01mif\u001b[39;00m next_part \u001b[38;5;129;01mis\u001b[39;00m \u001b[38;5;129;01mnot\u001b[39;00m \u001b[38;5;28;01mNone\u001b[39;00m \u001b[38;5;129;01mand\u001b[39;00m \u001b[38;5;28misinstance\u001b[39m(after, Integral):\n\u001b[1;32m     32\u001b[0m     \u001b[38;5;28;01mif\u001b[39;00m next_part\u001b[38;5;241m.\u001b[39mshape[\u001b[38;5;241m0\u001b[39m] \u001b[38;5;241m!=\u001b[39m after:\n",
      "\u001b[0;31mNotImplementedError\u001b[0m: Partition size is less than overlapping window size. Try using ``df.repartition`` to increase the partition size."
     ]
    }
   ],
   "source": [
    "from dask import dataframe as dd\n",
    "from datetime import datetime\n",
    "import pandas as pd\n",
    "\n",
    "df = dd.read_parquet('../cache/solarpanel.parquet')\n",
    "start_time = pd.to_datetime(datetime.fromtimestamp(1646906864141 / 1000))\n",
    "end_time = pd.to_datetime(datetime.fromtimestamp(1646908343348 / 1000))\n",
    "print(start_time)\n",
    "print(end_time)\n",
    "\n",
    "mask = (\n",
    "  (df.index >= start_time) &\n",
    "  (df.index <= end_time)\n",
    ")\n",
    "\n",
    "units = [\"voltage\", \"input_current\"]\n",
    "\n",
    "mf = df.loc[mask, units]\n",
    "\n",
    "if len(mf.index) > 100:\n",
    "    resample_freq = len(mf) // 100\n",
    "    print(len(mf))\n",
    "    mf = mf.resample(str(resample_freq) + \"S\").mean()\n",
    "\n",
    "    mf = mf.dropna()\n",
    "\n",
    "mf[\"timestamp\"] = mf.index\n",
    "mf[\"gap\"] = mf[\"timestamp\"].diff().dt.seconds > resample_freq\n",
    "mf[\"gap\"] = mf[\"gap\"].cumsum()\n",
    "mf.compute()"
   ]
  },
  {
   "cell_type": "code",
   "execution_count": 7,
   "metadata": {},
   "outputs": [
    {
     "data": {
      "text/plain": [
       "[21, 126]"
      ]
     },
     "execution_count": 7,
     "metadata": {},
     "output_type": "execute_result"
    }
   ],
   "source": [
    "gk = mf.groupby(\"gap\")[\"timestamp\"].count().cumsum()\n",
    "split_rows = gk.compute().tolist()\n",
    "split_rows"
   ]
  },
  {
   "cell_type": "code",
   "execution_count": 8,
   "metadata": {},
   "outputs": [
    {
     "data": {
      "text/plain": [
       "[     timestamp voltage input_current\n",
       " 0   1646912595   12.90         26.26\n",
       " 1   1646912596   13.13         20.78\n",
       " 2   1646912597   13.02         30.59\n",
       " 3   1646912598   13.59         84.10\n",
       " 4   1646912599   13.57         22.17\n",
       " 5   1646912600   13.84        132.36\n",
       " 6   1646912601   13.65          2.29\n",
       " 7   1646912602   13.32         58.81\n",
       " 8   1646912603   13.54         14.09\n",
       " 9   1646912604   13.70         94.59\n",
       " 10  1646912605   13.64         76.57\n",
       " 11  1646912606   13.40        108.32\n",
       " 12  1646912607   12.87        130.31\n",
       " 13  1646912608   14.17         44.19\n",
       " 14  1646912609   13.21         42.45\n",
       " 15  1646912610   13.04         54.04\n",
       " 16  1646912611   12.82         14.41\n",
       " 17  1646912612   13.68         24.38\n",
       " 18  1646912613   13.30         77.85\n",
       " 19  1646912614   13.86         40.85\n",
       " 20  1646912615   12.92         44.86,\n",
       "      timestamp voltage input_current\n",
       " 0   1646912636   13.57         84.81\n",
       " 1   1646912637   13.94        115.31\n",
       " 2   1646912638   14.25         22.63\n",
       " 3   1646912639   12.89        146.27\n",
       " 4   1646912640   12.65         86.26\n",
       " ..         ...     ...           ...\n",
       " 16  1646912736   13.72         37.89\n",
       " 17  1646912737   13.10         59.08\n",
       " 18  1646912738   13.22         55.60\n",
       " 19  1646912739   13.57         34.79\n",
       " 20  1646912740   14.05         13.44\n",
       " \n",
       " [105 rows x 3 columns],\n",
       " Empty DataFrame\n",
       " Columns: [timestamp, voltage, input_current]\n",
       " Index: []]"
      ]
     },
     "execution_count": 8,
     "metadata": {},
     "output_type": "execute_result"
    }
   ],
   "source": [
    "import numpy as np\n",
    "\n",
    "mf = mf[units].reset_index().compute()\n",
    "mf[\"timestamp\"] = mf[\"timestamp\"].values.astype(\"datetime64[s]\").astype(\"int\")\n",
    "mf[units] = mf[units].applymap('{:,.2f}'.format)\n",
    "\n",
    "dfs = np.split(mf, split_rows, axis=0)\n",
    "dfs"
   ]
  },
  {
   "cell_type": "code",
   "execution_count": 9,
   "metadata": {},
   "outputs": [
    {
     "data": {
      "text/plain": [
       "[[[1646912595, '12.90', '26.26'],\n",
       "  [1646912596, '13.13', '20.78'],\n",
       "  [1646912597, '13.02', '30.59'],\n",
       "  [1646912598, '13.59', '84.10'],\n",
       "  [1646912599, '13.57', '22.17'],\n",
       "  [1646912600, '13.84', '132.36'],\n",
       "  [1646912601, '13.65', '2.29'],\n",
       "  [1646912602, '13.32', '58.81'],\n",
       "  [1646912603, '13.54', '14.09'],\n",
       "  [1646912604, '13.70', '94.59'],\n",
       "  [1646912605, '13.64', '76.57'],\n",
       "  [1646912606, '13.40', '108.32'],\n",
       "  [1646912607, '12.87', '130.31'],\n",
       "  [1646912608, '14.17', '44.19'],\n",
       "  [1646912609, '13.21', '42.45'],\n",
       "  [1646912610, '13.04', '54.04'],\n",
       "  [1646912611, '12.82', '14.41'],\n",
       "  [1646912612, '13.68', '24.38'],\n",
       "  [1646912613, '13.30', '77.85'],\n",
       "  [1646912614, '13.86', '40.85'],\n",
       "  [1646912615, '12.92', '44.86']],\n",
       " [[1646912636, '13.57', '84.81'],\n",
       "  [1646912637, '13.94', '115.31'],\n",
       "  [1646912638, '14.25', '22.63'],\n",
       "  [1646912639, '12.89', '146.27'],\n",
       "  [1646912640, '12.65', '86.26'],\n",
       "  [1646912641, '13.59', '126.34'],\n",
       "  [1646912642, '13.56', '121.65'],\n",
       "  [1646912643, '12.85', '56.35'],\n",
       "  [1646912644, '13.37', '104.50'],\n",
       "  [1646912645, '13.18', '51.54'],\n",
       "  [1646912646, '13.73', '0.16'],\n",
       "  [1646912647, '14.24', '67.93'],\n",
       "  [1646912648, '12.82', '119.26'],\n",
       "  [1646912649, '13.31', '26.96'],\n",
       "  [1646912650, '13.09', '41.09'],\n",
       "  [1646912651, '13.88', '81.12'],\n",
       "  [1646912652, '13.58', '80.33'],\n",
       "  [1646912653, '13.90', '22.33'],\n",
       "  [1646912654, '13.23', '72.21'],\n",
       "  [1646912655, '13.95', '143.61'],\n",
       "  [1646912656, '14.31', '49.20'],\n",
       "  [1646912657, '12.97', '50.75'],\n",
       "  [1646912658, '13.79', '48.48'],\n",
       "  [1646912659, '14.14', '58.40'],\n",
       "  [1646912660, '14.15', '149.53'],\n",
       "  [1646912661, '13.37', '4.19'],\n",
       "  [1646912662, '13.28', '70.31'],\n",
       "  [1646912663, '12.98', '3.94'],\n",
       "  [1646912664, '14.26', '4.34'],\n",
       "  [1646912665, '12.83', '18.18'],\n",
       "  [1646912666, '14.23', '101.73'],\n",
       "  [1646912667, '13.58', '96.52'],\n",
       "  [1646912668, '14.16', '7.89'],\n",
       "  [1646912669, '14.23', '97.23'],\n",
       "  [1646912670, '13.32', '84.72'],\n",
       "  [1646912671, '13.80', '111.51'],\n",
       "  [1646912672, '13.77', '20.43'],\n",
       "  [1646912673, '13.30', '35.79'],\n",
       "  [1646912674, '13.53', '109.67'],\n",
       "  [1646912675, '13.91', '40.75'],\n",
       "  [1646912676, '13.22', '25.88'],\n",
       "  [1646912677, '13.67', '16.33'],\n",
       "  [1646912678, '13.44', '73.16'],\n",
       "  [1646912679, '13.16', '84.72'],\n",
       "  [1646912680, '13.58', '112.04'],\n",
       "  [1646912681, '13.29', '67.06'],\n",
       "  [1646912682, '12.89', '67.15'],\n",
       "  [1646912683, '12.80', '30.24'],\n",
       "  [1646912684, '13.24', '20.65'],\n",
       "  [1646912685, '13.56', '76.39'],\n",
       "  [1646912686, '13.86', '57.14'],\n",
       "  [1646912687, '13.66', '146.55'],\n",
       "  [1646912688, '13.23', '140.57'],\n",
       "  [1646912689, '13.78', '95.36'],\n",
       "  [1646912690, '13.38', '83.37'],\n",
       "  [1646912691, '14.08', '102.30'],\n",
       "  [1646912692, '13.69', '97.23'],\n",
       "  [1646912693, '13.25', '14.54'],\n",
       "  [1646912694, '13.97', '98.79'],\n",
       "  [1646912695, '13.77', '39.41'],\n",
       "  [1646912696, '14.07', '10.49'],\n",
       "  [1646912697, '13.06', '67.20'],\n",
       "  [1646912698, '13.35', '142.75'],\n",
       "  [1646912699, '13.62', '145.88'],\n",
       "  [1646912700, '13.89', '72.29'],\n",
       "  [1646912701, '13.62', '122.03'],\n",
       "  [1646912702, '13.93', '121.66'],\n",
       "  [1646912703, '13.47', '27.89'],\n",
       "  [1646912704, '13.66', '6.66'],\n",
       "  [1646912705, '12.95', '139.37'],\n",
       "  [1646912706, '13.64', '13.67'],\n",
       "  [1646912707, '12.79', '12.89'],\n",
       "  [1646912708, '13.53', '37.43'],\n",
       "  [1646912709, '13.42', '74.85'],\n",
       "  [1646912710, '13.49', '51.65'],\n",
       "  [1646912711, '13.00', '57.02'],\n",
       "  [1646912712, '13.28', '60.61'],\n",
       "  [1646912713, '13.62', '5.46'],\n",
       "  [1646912714, '13.74', '74.45'],\n",
       "  [1646912715, '13.66', '81.54'],\n",
       "  [1646912716, '13.61', '109.90'],\n",
       "  [1646912717, '14.00', '130.96'],\n",
       "  [1646912718, '13.48', '143.83'],\n",
       "  [1646912719, '14.39', '112.29'],\n",
       "  [1646912720, '13.34', '53.62'],\n",
       "  [1646912721, '13.14', '135.94'],\n",
       "  [1646912722, '13.65', '24.56'],\n",
       "  [1646912723, '13.28', '140.81'],\n",
       "  [1646912724, '13.76', '95.35'],\n",
       "  [1646912725, '12.89', '0.86'],\n",
       "  [1646912726, '13.40', '131.12'],\n",
       "  [1646912727, '13.56', '10.44'],\n",
       "  [1646912728, '12.97', '101.52'],\n",
       "  [1646912729, '13.94', '136.98'],\n",
       "  [1646912730, '13.38', '103.80'],\n",
       "  [1646912731, '13.06', '120.05'],\n",
       "  [1646912732, '13.26', '31.40'],\n",
       "  [1646912733, '13.24', '144.02'],\n",
       "  [1646912734, '13.45', '44.84'],\n",
       "  [1646912735, '13.22', '3.41'],\n",
       "  [1646912736, '13.72', '37.89'],\n",
       "  [1646912737, '13.10', '59.08'],\n",
       "  [1646912738, '13.22', '55.60'],\n",
       "  [1646912739, '13.57', '34.79'],\n",
       "  [1646912740, '14.05', '13.44']]]"
      ]
     },
     "execution_count": 9,
     "metadata": {},
     "output_type": "execute_result"
    }
   ],
   "source": [
    "mfs = []\n",
    "\n",
    "for i in range(len(dfs) - 1):\n",
    "      mfs.append(dfs[i].to_numpy().tolist())\n",
    "        \n",
    "mfs"
   ]
  },
  {
   "cell_type": "code",
   "execution_count": null,
   "metadata": {},
   "outputs": [],
   "source": []
  }
 ],
 "metadata": {
  "kernelspec": {
   "display_name": "myenv",
   "language": "python",
   "name": "myenv"
  },
  "language_info": {
   "codemirror_mode": {
    "name": "ipython",
    "version": 3
   },
   "file_extension": ".py",
   "mimetype": "text/x-python",
   "name": "python",
   "nbconvert_exporter": "python",
   "pygments_lexer": "ipython3",
   "version": "3.8.10"
  }
 },
 "nbformat": 4,
 "nbformat_minor": 4
}
