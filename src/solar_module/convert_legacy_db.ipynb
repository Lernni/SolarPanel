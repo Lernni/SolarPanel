{
 "cells": [
  {
   "cell_type": "code",
   "execution_count": 9,
   "metadata": {},
   "outputs": [
    {
     "data": {
      "text/plain": [
       "PosixPath('/home/lenny/projects/SolarPanel/SolarPanel/src/solar_module/cache/solarpanel.parquet')"
      ]
     },
     "execution_count": 9,
     "metadata": {},
     "output_type": "execute_result"
    }
   ],
   "source": [
    "from pathlib import Path\n",
    "from datetime import datetime, timedelta\n",
    "from dask import dataframe as dd\n",
    "import pandas as pd\n",
    "import functools\n",
    "import shutil\n",
    "import os\n",
    "\n",
    "\n",
    "def csv_name_comparator(file1, file2):\n",
    "    file1_info = file1.split('_')\n",
    "    file2_info = file2.split('_')\n",
    "    \n",
    "    start_date1 = file1_info[2]\n",
    "    start_time1 = file1_info[3]\n",
    "    start_date_time1 = datetime.strptime(start_date1 + ' ' + start_time1, '%d-%m-%Y %H%M%S')\n",
    "    \n",
    "    start_date2 = file2_info[2]\n",
    "    start_time2 = file2_info[3]\n",
    "    start_date_time2 = datetime.strptime(start_date2 + ' ' + start_time2, '%d-%m-%Y %H%M%S')\n",
    "    \n",
    "    if start_date_time1 < start_date_time2:\n",
    "        return -1\n",
    "    else:\n",
    "        return 1\n",
    "\n",
    "columns = {\n",
    "  'timestamp': pd.Series(dtype = 'datetime64[ns]'),\n",
    "  'voltage': pd.Series(dtype = 'float64'),\n",
    "  'input_current': pd.Series(dtype = 'float64'),\n",
    "  'output_current': pd.Series(dtype = 'float64'),\n",
    "  'soc': pd.Series(dtype = 'float64'),\n",
    "}\n",
    "\n",
    "OLD_DB_PATH = Path('[...]/solarpanel_db')\n",
    "NEW_DB_PATH = Path('[...]/solarpanel.parquet')\n",
    "NEW_TEMP_DB_PATH = Path('[...]/tmp_solarpanel.parquet')\n",
    "\n",
    "\n",
    "csv_files = [f.name for f in OLD_DB_PATH.iterdir() if f.suffix == '.csv']\n",
    "csv_files = sorted(csv_files, key=functools.cmp_to_key(csv_name_comparator))\n",
    "\n",
    "try: \n",
    "    shutil.rmtree(NEW_DB_PATH) \n",
    "except: pass\n",
    "NEW_DB_PATH.mkdir(parents=True, exist_ok=True)\n",
    "\n",
    "for i in range(10):\n",
    "\n",
    "    for csv_file in csv_files:\n",
    "        records = []\n",
    "\n",
    "        with open(str(OLD_DB_PATH) + \"/\" + csv_file, 'r') as f:\n",
    "            first_line = True\n",
    "            for line in f:\n",
    "                if first_line:\n",
    "                    first_line = False\n",
    "                else:\n",
    "                    line_info = line.split(',')\n",
    "                    records.append([\n",
    "                        datetime.fromtimestamp(int(line_info[4])) + timedelta(days=i),\n",
    "                        float(line_info[0]),\n",
    "                        float(line_info[1]),\n",
    "                        float(line_info[2]),\n",
    "                        float(0)\n",
    "                    ])\n",
    "\n",
    "        df = dd.from_pandas(pd.DataFrame(records, columns = columns), npartitions = 1)\n",
    "        df = df.set_index(\"timestamp\", sorted=True)\n",
    "        dd.to_parquet(df, NEW_DB_PATH, append=True)\n",
    "\n",
    "\n",
    "df = dd.read_parquet(NEW_DB_PATH)\n",
    "df = df.repartition(partition_size=\"20MB\")\n",
    "dd.to_parquet(df, NEW_TEMP_DB_PATH)\n",
    "\n",
    "shutil.rmtree(NEW_DB_PATH)\n",
    "shutil.move(NEW_TEMP_DB_PATH, NEW_DB_PATH)"
   ]
  }
 ],
 "metadata": {
  "kernelspec": {
   "display_name": "myenv",
   "language": "python",
   "name": "myenv"
  },
  "language_info": {
   "codemirror_mode": {
    "name": "ipython",
    "version": 3
   },
   "file_extension": ".py",
   "mimetype": "text/x-python",
   "name": "python",
   "nbconvert_exporter": "python",
   "pygments_lexer": "ipython3",
   "version": "3.8.10"
  }
 },
 "nbformat": 4,
 "nbformat_minor": 4
}
